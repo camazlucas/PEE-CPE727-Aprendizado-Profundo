{
 "cells": [
  {
   "cell_type": "markdown",
   "metadata": {},
   "source": [
    "# Importando as Bibliotecas"
   ]
  },
  {
   "cell_type": "code",
   "execution_count": null,
   "metadata": {},
   "outputs": [],
   "source": []
  },
  {
   "cell_type": "code",
   "execution_count": null,
   "metadata": {},
   "outputs": [],
   "source": [
    "train_data_rio = pd.read_csv('station_rio.csv')"
   ]
  },
  {
   "cell_type": "code",
   "execution_count": null,
   "metadata": {},
   "outputs": [],
   "source": [
    "months_dict = {'JAN':1,'FEB':2,'MAR':3,'APR':4,'MAY':5,'JUN':6, 'JUL':7,'AUG':8,'SEP':9,'OCT':10,'NOV':11,'DEC':12}\n",
    "\n",
    "train_data_rio = train_data_rio[['YEAR'] + list(months_dict.keys())]\n",
    "train_data_rio.head()"
   ]
  },
  {
   "cell_type": "code",
   "execution_count": null,
   "metadata": {},
   "outputs": [],
   "source": [
    "df_rio = pd.melt(train_data_rio, \n",
    "        id_vars='YEAR',\n",
    "        value_vars=months_dict.keys(),\n",
    "        var_name='MONTH', \n",
    "        value_name='Sum of Value').replace({\"MONTH\": months_dict}) # replaces month names to month numbers.\n",
    "\n",
    "df_rio.head()"
   ]
  },
  {
   "cell_type": "code",
   "execution_count": null,
   "metadata": {},
   "outputs": [],
   "source": [
    "df_rio[\"DAY\"] = 1\n",
    "df_rio['DATE'] = pd.to_datetime(df_rio[['YEAR','MONTH','DAY']])\n",
    "df_rio = df_rio.rename(columns = {'Sum of Value':'TEMP'})\n",
    "df_rio = df_rio.sort_values(\"DATE\").reset_index(drop=True)\n",
    "\n",
    "df_rio = df_rio.drop([\"YEAR\", \"MONTH\", \"DAY\"], axis = 1)\n",
    "df_rio = df_rio.set_index('DATE', drop = True)"
   ]
  },
  {
   "cell_type": "markdown",
   "metadata": {},
   "source": [
    "## _Interpolate Data\n",
    "Há dados faltantes, esta parte do código é para cobrir estes dados por interpolação"
   ]
  },
  {
   "cell_type": "code",
   "execution_count": null,
   "metadata": {},
   "outputs": [],
   "source": [
    "print(df_rio[\"TEMP\"].min(), df_rio[\"TEMP\"].max(), df_rio[\"TEMP\"].mean())"
   ]
  },
  {
   "cell_type": "code",
   "execution_count": null,
   "metadata": {},
   "outputs": [],
   "source": [
    "df_rio.replace(999.90, np.nan, inplace = True)\n",
    "df_rio_intp = df_rio.interpolate()"
   ]
  },
  {
   "cell_type": "code",
   "execution_count": null,
   "metadata": {},
   "outputs": [],
   "source": [
    "print(df_rio_intp[\"TEMP\"].min(), df_rio_intp[\"TEMP\"].max(), df_rio_intp[\"TEMP\"].mean())"
   ]
  },
  {
   "cell_type": "code",
   "execution_count": null,
   "metadata": {},
   "outputs": [],
   "source": [
    "rows = 2\n",
    "cols = 1\n",
    "\n",
    "fig, axs = plt.subplots(2, figsize = (15, 10))\n",
    "\n",
    "axs[0]\n",
    "axs[0].set_title('Before Interpolation')\n",
    "axs[0].plot(df_rio, color = 'dodgerblue')\n",
    "\n",
    "axs[1].plot(df_rio_intp, color = 'orangered', linestyle = '--', label = 'Interpolated Values')\n",
    "legend = plt.legend(loc = 'upper left')\n",
    "axs[1].set_title(\"After Interpolation\")\n",
    "axs[1].plot(df_rio, color = 'dodgerblue')\n",
    "\n",
    "plt.show()"
   ]
  }
 ],
 "metadata": {
  "language_info": {
   "name": "python"
  }
 },
 "nbformat": 4,
 "nbformat_minor": 2
}
